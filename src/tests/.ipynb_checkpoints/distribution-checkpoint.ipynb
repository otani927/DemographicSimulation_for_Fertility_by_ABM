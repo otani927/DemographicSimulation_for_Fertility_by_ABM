{
 "cells": [
  {
   "cell_type": "markdown",
   "id": "a9761b44-c987-4870-8bac-96c99d53d408",
   "metadata": {},
   "source": [
    "# 実証データから分布を導出\n",
    "\n",
    "### 就業構造基本調査　全国結果"
   ]
  },
  {
   "cell_type": "code",
   "execution_count": 3,
   "id": "2389f899-c854-4440-b99b-117333993cd0",
   "metadata": {},
   "outputs": [],
   "source": [
    "import pandas as pd\n",
    "import matplotlib.pyplot as plt"
   ]
  },
  {
   "cell_type": "code",
   "execution_count": 4,
   "id": "4aa3bcbb-a90e-45b3-bbf7-998de431c325",
   "metadata": {},
   "outputs": [],
   "source": [
    "# ヒストグラムにしてデータを出力\n",
    "\n",
    "def plot_histogram(data_frame, column_name, bins=10):\n",
    "    \"\"\"\n",
    "    データフレームの指定された列の分布をヒストグラムとして表示する関数\n",
    "\n",
    "    Parameters:\n",
    "        data_frame (pandas.DataFrame): データフレーム\n",
    "        column_name (str): ヒストグラムを作成する列の名前\n",
    "        bins (int, optional): ビンの数（ヒストグラムの幅を調整）\n",
    "\n",
    "    Returns:\n",
    "        None\n",
    "    \"\"\"\n",
    "    # ヒストグラムをプロット\n",
    "    plt.hist(data_frame[column_name], bins=bins)\n",
    "    \n",
    "    # グラフのタイトルとラベルを設定\n",
    "    plt.title(f'Histogram of {column_name}')\n",
    "    plt.xlabel(column_name)\n",
    "    plt.ylabel('Frequency')\n",
    "    \n",
    "    # ヒストグラムを表示\n",
    "    plt.show()\n"
   ]
  },
  {
   "cell_type": "code",
   "execution_count": 5,
   "id": "012facfd-68c8-4f30-bf86-911caf0945c8",
   "metadata": {},
   "outputs": [
    {
     "data": {
      "text/html": [
       "<div>\n",
       "<style scoped>\n",
       "    .dataframe tbody tr th:only-of-type {\n",
       "        vertical-align: middle;\n",
       "    }\n",
       "\n",
       "    .dataframe tbody tr th {\n",
       "        vertical-align: top;\n",
       "    }\n",
       "\n",
       "    .dataframe thead th {\n",
       "        text-align: right;\n",
       "    }\n",
       "</style>\n",
       "<table border=\"1\" class=\"dataframe\">\n",
       "  <thead>\n",
       "    <tr style=\"text-align: right;\">\n",
       "      <th></th>\n",
       "      <th>popula</th>\n",
       "    </tr>\n",
       "  </thead>\n",
       "  <tbody>\n",
       "    <tr>\n",
       "      <th>-50</th>\n",
       "      <td>3494200</td>\n",
       "    </tr>\n",
       "    <tr>\n",
       "      <th>50-99</th>\n",
       "      <td>6782200</td>\n",
       "    </tr>\n",
       "    <tr>\n",
       "      <th>100-149</th>\n",
       "      <td>6039500</td>\n",
       "    </tr>\n",
       "    <tr>\n",
       "      <th>150-199</th>\n",
       "      <td>4196800</td>\n",
       "    </tr>\n",
       "    <tr>\n",
       "      <th>200-249</th>\n",
       "      <td>6627700</td>\n",
       "    </tr>\n",
       "    <tr>\n",
       "      <th>250-299</th>\n",
       "      <td>5189600</td>\n",
       "    </tr>\n",
       "    <tr>\n",
       "      <th>300-399</th>\n",
       "      <td>9457800</td>\n",
       "    </tr>\n",
       "    <tr>\n",
       "      <th>400-499</th>\n",
       "      <td>7155300</td>\n",
       "    </tr>\n",
       "    <tr>\n",
       "      <th>500-599</th>\n",
       "      <td>4903300</td>\n",
       "    </tr>\n",
       "    <tr>\n",
       "      <th>600-699</th>\n",
       "      <td>3425500</td>\n",
       "    </tr>\n",
       "    <tr>\n",
       "      <th>700-799</th>\n",
       "      <td>2415300</td>\n",
       "    </tr>\n",
       "    <tr>\n",
       "      <th>800-899</th>\n",
       "      <td>1596600</td>\n",
       "    </tr>\n",
       "    <tr>\n",
       "      <th>900-999</th>\n",
       "      <td>1034500</td>\n",
       "    </tr>\n",
       "    <tr>\n",
       "      <th>1000-1249</th>\n",
       "      <td>1471400</td>\n",
       "    </tr>\n",
       "    <tr>\n",
       "      <th>1250-1499</th>\n",
       "      <td>423400</td>\n",
       "    </tr>\n",
       "    <tr>\n",
       "      <th>1500-</th>\n",
       "      <td>672700</td>\n",
       "    </tr>\n",
       "  </tbody>\n",
       "</table>\n",
       "</div>"
      ],
      "text/plain": [
       "            popula\n",
       "-50        3494200\n",
       "50-99      6782200\n",
       "100-149    6039500\n",
       "150-199    4196800\n",
       "200-249    6627700\n",
       "250-299    5189600\n",
       "300-399    9457800\n",
       "400-499    7155300\n",
       "500-599    4903300\n",
       "600-699    3425500\n",
       "700-799    2415300\n",
       "800-899    1596600\n",
       "900-999    1034500\n",
       "1000-1249  1471400\n",
       "1250-1499   423400\n",
       "1500-       672700"
      ]
     },
     "metadata": {},
     "output_type": "display_data"
    },
    {
     "data": {
      "text/plain": [
       "<AxesSubplot:>"
      ]
     },
     "execution_count": 5,
     "metadata": {},
     "output_type": "execute_result"
    },
    {
     "data": {
      "image/png": "[encoded data removed]",
      "text/plain": [
       "<Figure size 432x288 with 1 Axes>"
      ]
     },
     "metadata": {
      "needs_background": "light"
     },
     "output_type": "display_data"
    }
   ],
   "source": [
    "# xlsxファイルのパス\n",
    "file_path = 'a043.xlsx'\n",
    "\n",
    "# xlsxデータをデータフレームに読み込む\n",
    "df = pd.read_excel(file_path, header=9, usecols=[10], skipfooter=6103)\n",
    "df.columns=[\"popula\"]\n",
    "df.index=[\"-50\", \"50-99\", \n",
    "          \"100-149\", \"150-199\", \n",
    "          \"200-249\", \"250-299\", \n",
    "          \"300-399\", \"400-499\", \n",
    "          \"500-599\", \"600-699\", \n",
    "          \"700-799\", \"800-899\",\n",
    "          \"900-999\", \"1000-1249\",\n",
    "          \"1250-1499\", \"1500-\"]\n",
    "display(df)\n",
    "\n",
    "# プロットしやすいように改変\n",
    "\n",
    "\n",
    "# ヒストグラムをプロット\n",
    "#plot_histogram(df, 'popula')\n",
    "df.plot.bar()"
   ]
  },
  {
   "cell_type": "code",
   "execution_count": 6,
   "id": "535a7beb-dcc2-4bb7-819f-9764886c0140",
   "metadata": {},
   "outputs": [
    {
     "data": {
      "image/png": "[encoded data removed]",
      "text/plain": [
       "<Figure size 432x288 with 1 Axes>"
      ]
     },
     "metadata": {
      "needs_background": "light"
     },
     "output_type": "display_data"
    }
   ],
   "source": [
    "import numpy as np\n",
    "import matplotlib.pyplot as plt\n",
    "from scipy.stats import genlogistic\n",
    "\n",
    "# データの生成 (例として一般化対数ガンマ分布からのサンプリング)\n",
    "np.random.seed(0)\n",
    "data = genlogistic.rvs(c=0.5, loc=0, scale=1, size=1000)\n",
    "\n",
    "# ヒストグラムをプロット\n",
    "plt.hist(data, bins=50, density=True, alpha=0.6, color='g')\n",
    "\n",
    "# 一般化対数ガンマ分布の確率密度関数をプロット\n",
    "xmin, xmax = plt.xlim()\n",
    "x = np.linspace(xmin, xmax, 100)\n",
    "p = genlogistic.pdf(x, c=0.5, loc=0, scale=1)\n",
    "plt.plot(x, p, 'k', linewidth=1)\n",
    "\n",
    "plt.title('Generalized Log Gamma Distribution')\n",
    "plt.xlabel('Value')\n",
    "plt.ylabel('Probability Density')\n",
    "\n",
    "plt.show()\n"
   ]
  },
  {
   "cell_type": "code",
   "execution_count": 8,
   "id": "9ea9067f-0428-4d03-a4ce-1caccdba59ff",
   "metadata": {},
   "outputs": [
    {
     "data": {
      "image/png": "[encoded data removed]",
      "text/plain": [
       "<Figure size 432x288 with 1 Axes>"
      ]
     },
     "metadata": {
      "needs_background": "light"
     },
     "output_type": "display_data"
    }
   ],
   "source": [
    "import numpy as np\n",
    "import matplotlib.pyplot as plt\n",
    "from scipy.special import erfinv\n",
    "\n",
    "# 確率密度関数 (PDF) の定義\n",
    "def pdf(x):\n",
    "    # 例として正規分布を使用\n",
    "    mu = 0\n",
    "    sigma = 1\n",
    "    return 1 / (sigma * np.sqrt(2 * np.pi)) * np.exp(-0.5 * ((x - mu) / sigma) ** 2)\n",
    "\n",
    "# 逆関数法による乱数生成\n",
    "def inverse_transform_sampling(n_samples):\n",
    "    U = np.random.rand(n_samples)\n",
    "    return np.sqrt(2) * sigma * erfinv(2 * U - 1) + mu\n",
    "\n",
    "# 確率密度関数のプロット\n",
    "x = np.linspace(-5, 5, 1000)\n",
    "plt.plot(x, pdf(x), 'r-', label='PDF')\n",
    "\n",
    "# 逆関数法による乱数生成\n",
    "mu = 0\n",
    "sigma = 1\n",
    "samples = inverse_transform_sampling(10000)\n",
    "\n",
    "# 生成された乱数のヒストグラムをプロット\n",
    "plt.hist(samples, bins=50, density=True, alpha=0.6, color='g', label='Samples')\n",
    "\n",
    "plt.title('Inverse Transform Sampling')\n",
    "plt.xlabel('Value')\n",
    "plt.ylabel('Probability Density')\n",
    "plt.legend()\n",
    "plt.show()\n",
    "\n"
   ]
  },
  {
   "cell_type": "code",
   "execution_count": null,
   "id": "81a8223b-86c3-4d4b-acd2-b93a64723784",
   "metadata": {},
   "outputs": [],
   "source": []
  }
 ],
 "metadata": {
  "kernelspec": {
   "display_name": "Python 3 (ipykernel)",
   "language": "python",
   "name": "python3"
  },
  "language_info": {
   "codemirror_mode": {
    "name": "ipython",
    "version": 3
   },
   "file_extension": ".py",
   "mimetype": "text/x-python",
   "name": "python",
   "nbconvert_exporter": "python",
   "pygments_lexer": "ipython3",
   "version": "3.9.12"
  }
 },
 "nbformat": 4,
 "nbformat_minor": 5
}
